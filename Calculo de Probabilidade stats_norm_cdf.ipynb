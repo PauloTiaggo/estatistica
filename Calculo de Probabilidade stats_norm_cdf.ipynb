{
  "nbformat": 4,
  "nbformat_minor": 0,
  "metadata": {
    "colab": {
      "provenance": []
    },
    "kernelspec": {
      "name": "python3",
      "display_name": "Python 3"
    },
    "language_info": {
      "name": "python"
    }
  },
  "cells": [
    {
      "cell_type": "code",
      "execution_count": null,
      "metadata": {
        "id": "ixcFfVol10rS"
      },
      "outputs": [],
      "source": [
        "import math\n",
        "import statistics\n",
        "import numpy as np\n",
        "import scipy.stats as stats\n",
        "import pandas as pd\n",
        "from scipy.stats import kstest"
      ]
    },
    {
      "cell_type": "code",
      "source": [
        "p = stats.norm.cdf(1) - stats.norm.cdf(-1)\n",
        "print(p)"
      ],
      "metadata": {
        "colab": {
          "base_uri": "https://localhost:8080/"
        },
        "id": "x4AKRuiP2xXl",
        "outputId": "66ac593a-6e97-4cc3-f621-6e402c49aea8"
      },
      "execution_count": null,
      "outputs": [
        {
          "output_type": "stream",
          "name": "stdout",
          "text": [
            "0.6826894921370859\n"
          ]
        }
      ]
    },
    {
      "cell_type": "code",
      "source": [
        "#Exercicio 2.1\n",
        "p = stats.norm.cdf(100, 120, 15)\n",
        "print(p)"
      ],
      "metadata": {
        "colab": {
          "base_uri": "https://localhost:8080/"
        },
        "id": "pM_MWMFz4Hym",
        "outputId": "a85dd8e0-2fd9-4d07-cd70-da87c7333260"
      },
      "execution_count": null,
      "outputs": [
        {
          "output_type": "stream",
          "name": "stdout",
          "text": [
            "0.09121121972586788\n"
          ]
        }
      ]
    },
    {
      "cell_type": "code",
      "source": [
        "#Exercicio 2.1\n",
        "p = stats.norm.cdf(-1.33)\n",
        "print(p)"
      ],
      "metadata": {
        "colab": {
          "base_uri": "https://localhost:8080/"
        },
        "id": "0oi5indf7cL6",
        "outputId": "92c484b1-40a4-42a0-9f7a-e273a9290173"
      },
      "execution_count": null,
      "outputs": [
        {
          "output_type": "stream",
          "name": "stdout",
          "text": [
            "0.09175913565028077\n"
          ]
        }
      ]
    },
    {
      "cell_type": "code",
      "source": [
        "#Exercicio 2.2\n",
        "p = 0.95\n",
        "x = stats.norm.ppf(p, 120, 15)\n",
        "print(x)"
      ],
      "metadata": {
        "colab": {
          "base_uri": "https://localhost:8080/"
        },
        "id": "wSfAFwnJ_1sy",
        "outputId": "6a0a627a-edf6-4a87-f52e-025a4ff142e3"
      },
      "execution_count": null,
      "outputs": [
        {
          "output_type": "stream",
          "name": "stdout",
          "text": [
            "144.67280440427209\n"
          ]
        }
      ]
    },
    {
      "cell_type": "code",
      "source": [
        "p = stats.norm.cdf(1.79)\n",
        "print(p)"
      ],
      "metadata": {
        "colab": {
          "base_uri": "https://localhost:8080/"
        },
        "id": "IY4QOz2OAGyz",
        "outputId": "64396b63-ac98-476a-b2c6-acf72d0b67c4"
      },
      "execution_count": null,
      "outputs": [
        {
          "output_type": "stream",
          "name": "stdout",
          "text": [
            "0.9632730443012737\n"
          ]
        }
      ]
    },
    {
      "cell_type": "code",
      "source": [
        "p = stats.norm.cdf(0.32)\n",
        "print(p)"
      ],
      "metadata": {
        "colab": {
          "base_uri": "https://localhost:8080/"
        },
        "id": "1iIpI5wtFkfG",
        "outputId": "0c26472f-e9c1-4798-f4c2-d194de9eece1"
      },
      "execution_count": null,
      "outputs": [
        {
          "output_type": "stream",
          "name": "stdout",
          "text": [
            "0.6255158347233201\n"
          ]
        }
      ]
    },
    {
      "cell_type": "code",
      "source": [
        "p = stats.norm.cdf(1.71) - 0.5\n",
        "print(p)"
      ],
      "metadata": {
        "colab": {
          "base_uri": "https://localhost:8080/"
        },
        "id": "PtD0hKsEFvv1",
        "outputId": "e209011c-8717-430e-8cad-b2cb39d6f533"
      },
      "execution_count": null,
      "outputs": [
        {
          "output_type": "stream",
          "name": "stdout",
          "text": [
            "0.4563670634759681\n"
          ]
        }
      ]
    },
    {
      "cell_type": "code",
      "source": [
        "p = 1 - stats.norm.cdf(1.5)\n",
        "print(p)"
      ],
      "metadata": {
        "colab": {
          "base_uri": "https://localhost:8080/"
        },
        "id": "9aM_ZZc_GTTf",
        "outputId": "75fb940a-b47d-447b-f957-15d5c473934b"
      },
      "execution_count": null,
      "outputs": [
        {
          "output_type": "stream",
          "name": "stdout",
          "text": [
            "0.06680720126885809\n"
          ]
        }
      ]
    },
    {
      "cell_type": "code",
      "source": [
        "p = stats.norm.cdf(-1.3)\n",
        "print(p)"
      ],
      "metadata": {
        "colab": {
          "base_uri": "https://localhost:8080/"
        },
        "id": "rqkXYTDuGmAK",
        "outputId": "a8b24c3c-0d6e-400a-c64b-af3f0a4e291f"
      },
      "execution_count": null,
      "outputs": [
        {
          "output_type": "stream",
          "name": "stdout",
          "text": [
            "0.09680048458561036\n"
          ]
        }
      ]
    },
    {
      "cell_type": "code",
      "source": [
        "p = stats.norm.cdf(1.5) - stats.norm.cdf(-1.5)\n",
        "print(p)"
      ],
      "metadata": {
        "colab": {
          "base_uri": "https://localhost:8080/"
        },
        "id": "4qCNUbkcHFmC",
        "outputId": "875fa930-a5ca-4ccd-b4b4-96886f1c502f"
      },
      "execution_count": null,
      "outputs": [
        {
          "output_type": "stream",
          "name": "stdout",
          "text": [
            "0.8663855974622838\n"
          ]
        }
      ]
    },
    {
      "cell_type": "code",
      "source": [
        "p = stats.norm.ppf(0.95, 120, 15)\n",
        "print(p)"
      ],
      "metadata": {
        "colab": {
          "base_uri": "https://localhost:8080/"
        },
        "id": "lULieX0gJdp3",
        "outputId": "06e0eb23-c33b-4703-a4f9-fcfa7040eee3"
      },
      "execution_count": null,
      "outputs": [
        {
          "output_type": "stream",
          "name": "stdout",
          "text": [
            "144.67280440427209\n"
          ]
        }
      ]
    },
    {
      "cell_type": "code",
      "source": [
        "p = stats.norm.ppf(.95)\n",
        "print(p)"
      ],
      "metadata": {
        "colab": {
          "base_uri": "https://localhost:8080/"
        },
        "id": "55z567NmMmrD",
        "outputId": "cffa0859-c64c-4740-f10f-923b26f98d8a"
      },
      "execution_count": null,
      "outputs": [
        {
          "output_type": "stream",
          "name": "stdout",
          "text": [
            "1.6448536269514722\n"
          ]
        }
      ]
    }
  ]
}